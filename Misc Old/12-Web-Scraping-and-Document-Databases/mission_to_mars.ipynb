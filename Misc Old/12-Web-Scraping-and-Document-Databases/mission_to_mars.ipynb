{
 "cells": [
  {
   "cell_type": "code",
   "execution_count": 1,
   "metadata": {},
   "outputs": [
    {
     "data": {
      "text/html": [
       "<style>.container { width:100% !important; }</style>"
      ],
      "text/plain": [
       "<IPython.core.display.HTML object>"
      ]
     },
     "metadata": {},
     "output_type": "display_data"
    }
   ],
   "source": [
    "from splinter import Browser\n",
    "from bs4 import BeautifulSoup\n",
    "from webdriver_manager.chrome import ChromeDriverManager\n",
    "import pandas as pd\n",
    "import datetime\n",
    "import time\n",
    "from IPython.core.display import display, HTML\n",
    "display(HTML(\"<style>.container { width:100% !important; }</style>\"))"
   ]
  },
  {
   "cell_type": "code",
   "execution_count": 2,
   "metadata": {},
   "outputs": [
    {
     "name": "stderr",
     "output_type": "stream",
     "text": [
      "[WDM] - Current google-chrome version is 87.0.4280\n",
      "[WDM] - Get LATEST driver version for 87.0.4280\n",
      "[WDM] - Driver [C:\\Users\\Grant\\.wdm\\drivers\\chromedriver\\win32\\87.0.4280.88\\chromedriver.exe] found in cache\n"
     ]
    },
    {
     "name": "stdout",
     "output_type": "stream",
     "text": [
      " \n"
     ]
    }
   ],
   "source": [
    "executable_path = {'executable_path': ChromeDriverManager().install()}\n",
    "browser = Browser('chrome', **executable_path, headless=False)"
   ]
  },
  {
   "cell_type": "code",
   "execution_count": 3,
   "metadata": {},
   "outputs": [
    {
     "name": "stderr",
     "output_type": "stream",
     "text": [
      "C:\\Users\\Grant\\anaconda3\\lib\\site-packages\\splinter\\driver\\webdriver\\__init__.py:490: FutureWarning: browser.find_link_by_partial_text is deprecated. Use browser.links.find_by_partial_text instead.\n",
      "  warnings.warn(\n"
     ]
    }
   ],
   "source": [
    "# this will be appended Mongo\n",
    "scraped_data = {}\n",
    "\n",
    "####################################################################\n",
    "\n",
    "# Get NASA News\n",
    "\n",
    "url = \"https://mars.nasa.gov/news/\"\n",
    "browser.visit(url)\n",
    "time.sleep(1)\n",
    "\n",
    "soup = BeautifulSoup(browser.html)\n",
    "slide = soup.find(\"li\", {\"class\": \"slide\"})\n",
    "news_title = slide.find(\"div\", {\"class\": \"content_title\"}).text.strip()\n",
    "news_p = slide.find(\"div\", {\"class\": \"article_teaser_body\"}).text.strip()\n",
    "\n",
    "########################################################################\n",
    "\n",
    "# Get the featured image\n",
    "\n",
    "base = \"https://www.jpl.nasa.gov\"\n",
    "url = f\"{base}/spaceimages/?search=&category=Mars\"\n",
    "browser.visit(url)\n",
    "time.sleep(1)\n",
    "\n",
    "#click to get the full image\n",
    "browser.find_by_id(\"full_image\").click()\n",
    "time.sleep(1)\n",
    "\n",
    "#click again to get the true full image (largesize)\n",
    "browser.find_link_by_partial_text(\"more info\").click()\n",
    "time.sleep(1)\n",
    "\n",
    "soup = BeautifulSoup(browser.html)\n",
    "image = soup.find(\"img\", {\"class\": \"main_image\"})\n",
    "\n",
    "#create the complete url string\n",
    "featured_image_url  = base + image[\"src\"]\n",
    "\n",
    "########################################################################\n",
    "\n",
    "# Get Mars Facts\n",
    "\n",
    "url = \"https://space-facts.com/mars/\"\n",
    "browser.visit(url)\n",
    "time.sleep(1)\n",
    "\n",
    "#find the right table and pull it\n",
    "dfs = pd.read_html(browser.html)\n",
    "df = dfs[0]\n",
    "#give the table some headers for clean presentation\n",
    "df.columns = [\"Statistic\", \"Value\"]\n",
    "mars_facts = df.to_html(index=False)\n",
    "\n",
    "########################################################################\n",
    "\n",
    "# Hemisphere Data\n",
    "\n",
    "base = \"https://astrogeology.usgs.gov\"\n",
    "url = f\"{base}/search/results?q=hemisphere+enhanced&k1=target&v1=Mars\"\n",
    "browser.visit(url)\n",
    "time.sleep(1)\n",
    "\n",
    "#find the proper image links\n",
    "soup = BeautifulSoup(browser.html)\n",
    "links = soup.find(\"div\", {\"class\": \"results\"}).findAll(\"a\", {\"class\": \"itemLink\"})\n",
    "\n",
    "#filter out non image results (find the actual image links)\n",
    "realLinks = []\n",
    "for link in links:\n",
    "    image = link.find(\"img\")\n",
    "    if (image):\n",
    "        realLinks.append(base + link[\"href\"]) # append the base url\n",
    "\n",
    "# Loop through each image link, click, grab the image info\n",
    "hemisphere_data = []\n",
    "for realLink in realLinks:\n",
    "    browser.visit(realLink)\n",
    "    time.sleep(1)\n",
    "    \n",
    "    soup = BeautifulSoup(browser.html)\n",
    "    hemi_url = soup.find(\"ul\").find(\"li\").find(\"a\")[\"href\"] #image url\n",
    "    hemi_title = soup.find(\"h2\", {'class', \"title\"}).text.split(\" Enhanced\")[0] #title url\n",
    "    \n",
    "    hemisphere_data.append({\"title\": hemi_title, \"url\": hemi_url}) #put together the images and titles\n",
    "    \n",
    "########################################################################    \n",
    "\n",
    "#exit browser\n",
    "browser.quit()\n",
    "\n",
    "#append data\n",
    "scraped_data[\"news_title\"] = news_title\n",
    "scraped_data[\"news_p\"] = news_p\n",
    "scraped_data[\"featured_image_url\"] = featured_image_url\n",
    "scraped_data[\"mars_facts\"] = mars_facts\n",
    "scraped_data[\"hemispheres\"] = hemisphere_data"
   ]
  },
  {
   "cell_type": "code",
   "execution_count": 4,
   "metadata": {},
   "outputs": [
    {
     "data": {
      "text/plain": [
       "{'news_title': \"Celebrate the Perseverance Rover Landing With NASA's Student Challenge\",\n",
       " 'news_p': 'The rover touches down on the Red Planet next month, and students are invited to join the excitement by designing, building, and landing their own Mars mission. NASA can help.',\n",
       " 'featured_image_url': 'https://www.jpl.nasa.gov/spaceimages/images/largesize/PIA19092_hires.jpg',\n",
       " 'mars_facts': '<table border=\"1\" class=\"dataframe\">\\n  <thead>\\n    <tr style=\"text-align: right;\">\\n      <th>Statistic</th>\\n      <th>Value</th>\\n    </tr>\\n  </thead>\\n  <tbody>\\n    <tr>\\n      <td>Equatorial Diameter:</td>\\n      <td>6,792 km</td>\\n    </tr>\\n    <tr>\\n      <td>Polar Diameter:</td>\\n      <td>6,752 km</td>\\n    </tr>\\n    <tr>\\n      <td>Mass:</td>\\n      <td>6.39 × 10^23 kg (0.11 Earths)</td>\\n    </tr>\\n    <tr>\\n      <td>Moons:</td>\\n      <td>2 (Phobos &amp; Deimos)</td>\\n    </tr>\\n    <tr>\\n      <td>Orbit Distance:</td>\\n      <td>227,943,824 km (1.38 AU)</td>\\n    </tr>\\n    <tr>\\n      <td>Orbit Period:</td>\\n      <td>687 days (1.9 years)</td>\\n    </tr>\\n    <tr>\\n      <td>Surface Temperature:</td>\\n      <td>-87 to -5 °C</td>\\n    </tr>\\n    <tr>\\n      <td>First Record:</td>\\n      <td>2nd millennium BC</td>\\n    </tr>\\n    <tr>\\n      <td>Recorded By:</td>\\n      <td>Egyptian astronomers</td>\\n    </tr>\\n  </tbody>\\n</table>',\n",
       " 'hemispheres': [{'title': 'Cerberus Hemisphere',\n",
       "   'url': 'https://astropedia.astrogeology.usgs.gov/download/Mars/Viking/cerberus_enhanced.tif/full.jpg'},\n",
       "  {'title': 'Schiaparelli Hemisphere',\n",
       "   'url': 'https://astropedia.astrogeology.usgs.gov/download/Mars/Viking/schiaparelli_enhanced.tif/full.jpg'},\n",
       "  {'title': 'Syrtis Major Hemisphere',\n",
       "   'url': 'https://astropedia.astrogeology.usgs.gov/download/Mars/Viking/syrtis_major_enhanced.tif/full.jpg'},\n",
       "  {'title': 'Valles Marineris Hemisphere',\n",
       "   'url': 'https://astropedia.astrogeology.usgs.gov/download/Mars/Viking/valles_marineris_enhanced.tif/full.jpg'}]}"
      ]
     },
     "execution_count": 4,
     "metadata": {},
     "output_type": "execute_result"
    }
   ],
   "source": [
    "scraped_data"
   ]
  }
 ],
 "metadata": {
  "kernelspec": {
   "display_name": "Python 3",
   "language": "python",
   "name": "python3"
  },
  "language_info": {
   "codemirror_mode": {
    "name": "ipython",
    "version": 3
   },
   "file_extension": ".py",
   "mimetype": "text/x-python",
   "name": "python",
   "nbconvert_exporter": "python",
   "pygments_lexer": "ipython3",
   "version": "3.8.5"
  }
 },
 "nbformat": 4,
 "nbformat_minor": 4
}
